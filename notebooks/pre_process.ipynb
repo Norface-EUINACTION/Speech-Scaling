{
  "cells": [
    {
      "cell_type": "code",
      "execution_count": null,
      "metadata": {
        "id": "_03V46-2IgI6",
        "colab": {
          "base_uri": "https://localhost:8080/"
        },
        "outputId": "fbede401-bc30-45c3-f135-d004f88aa202"
      },
      "outputs": [
        {
          "output_type": "stream",
          "name": "stderr",
          "text": [
            "/content/io_helper.py:198: SyntaxWarning: \"is not\" with a literal. Did you mean \"!=\"?\n",
            "  while line is not '':\n",
            "/content/io_helper.py:198: SyntaxWarning: \"is not\" with a literal. Did you mean \"!=\"?\n",
            "  while line is not '':\n"
          ]
        }
      ],
      "source": [
        "import pandas as pd\n",
        "from statistics import median\n",
        "import os\n",
        "from collections import Counter\n",
        "import glob\n",
        "from io_helper import get_csv_lines\n",
        "from io_helper import serialize\n",
        "from datetime import datetime\n",
        "from io_helper import write_list\n",
        "from io_helper import write_csv_lines"
      ]
    },
    {
      "cell_type": "markdown",
      "source": [
        "### Add file path"
      ],
      "metadata": {
        "id": "Ph2G6LJIJQOi"
      }
    },
    {
      "cell_type": "code",
      "source": [
        "base_path = ...\n",
        "file_path = ..."
      ],
      "metadata": {
        "id": "8FiiPYy9sOEi"
      },
      "execution_count": null,
      "outputs": []
    },
    {
      "cell_type": "markdown",
      "source": [
        "### Create a dictionary of indices per country.\n",
        "\n",
        "To get indices of relevant columns, run the following code\n",
        "\n",
        "\n",
        "```\n",
        "df = pd.read_csv({country name}.csv, sep=',')\n",
        "for idx, col in df.columns:\n",
        "  print(str(idx) + \" : \" + col)\n",
        "```\n",
        "\n"
      ],
      "metadata": {
        "id": "lKso8mEJJuIt"
      }
    },
    {
      "cell_type": "code",
      "source": [
        "countries = ['norway'] # Add as many countries"
      ],
      "metadata": {
        "id": "c0qxyaE-vN2t",
        "colab": {
          "base_uri": "https://localhost:8080/"
        },
        "outputId": "08f24338-a6fc-4f98-81f9-8c0f55f9e69e"
      },
      "execution_count": null,
      "outputs": [
        {
          "output_type": "execute_result",
          "data": {
            "text/plain": [
              "['norway']"
            ]
          },
          "metadata": {},
          "execution_count": 11
        }
      ]
    },
    {
      "cell_type": "code",
      "source": [
        "indices = {\"belgium\" : {\"speaker\" : 7, \"date\" : 2, \"text\" : 9, \"policyarea\" : 11, \"partyfacts\" : -2, \"EP\": -1},\n",
        "           \"austria\" : {\"speaker\" : 9, \"date\" : 4, \"text\" : 11, \"policyarea\" : 15, \"partyfacts\" : -2, \"EP\": -1},\n",
        "           \"croatia\" : {\"speaker\" : 8, \"date\" : 3, \"text\" : 10, \"policyarea\" : 14, \"partyfacts\" : -2, \"EP\": -1},\n",
        "           \"cyprus\" : {\"speaker\" : 5, \"dates\" : -1, \"text\" : 7, \"policyarea\" : 11, \"partyfacts\" : 16, \"EP\": -2},\n",
        "           \"finland\" : {\"speaker\" : 7, \"date\" : 2, \"text\" : 9, \"policyarea\" : 13, \"partyfacts\" : -2, \"EP\": -1},\n",
        "           \"sweden\" : {\"speaker\" : 8, \"date\" : 3, \"text\" : 10, \"policyarea\" : 15, \"partyfacts\" : -2, \"EP\": -1},\n",
        "           \"estonia\" : {\"speaker\" : 7, \"date\" : 2, \"text\" : 9, \"policyarea\" : 14, \"partyfacts\" : -2, \"EP\": -1},\n",
        "           \"denmark\" : {\"speaker\" : 7, \"date\" : 2, \"text\" : 9, \"policyarea\" : 13, \"partyfacts\" : -2, \"EP\": -1},\n",
        "           \"germany\" : {\"speaker\" : 9, \"date\" : 4, \"text\" : 11, \"policyarea\" : 15, \"partyfacts\" : -2, \"EP\": -1},\n",
        "           \"italy\" : {\"speaker\" : 8, \"date\" : 3, \"text\" : 10, \"policyarea\" : 14, \"partyfacts\" : -2, \"EP\": -1},\n",
        "           \"ireland\" : {\"speaker\" : 7, \"date\" : 2, \"text\" : 9, \"policyarea\" : 13, \"partyfacts\" : -2, \"EP\": -1},\n",
        "           \"hungary\" : {\"speaker\" : 7, \"date\" : 2, \"text\" : 9, \"policyarea\" : 13, \"partyfacts\" : -2, \"EP\": -1},\n",
        "           \"portugal\" : {\"speaker\" : 8, \"date\" : 3, \"text\" : 10, \"policyarea\" : 14, \"partyfacts\" : -2, \"EP\": -1},\n",
        "           \"spain\" : {\"speaker\" : 8, \"date\" : 3, \"text\" : 9, \"policyarea\" : 13, \"partyfacts\" : -2, \"EP\": -1},\n",
        "           \"slovakia\" : {\"speaker\" : 7, \"date\" : 2, \"text\" : 9, \"policyarea\" : 13, \"partyfacts\" : -2, \"EP\": -1},\n",
        "           \"france\" : {\"speaker\" : 9, \"date\" : 4, \"text\" : 11, \"policyarea\" : 15, \"partyfacts\" : -2, \"EP\": -1},\n",
        "           \"netherlands\" : {\"speaker\" : 8, \"date\" : 3, \"text\" : 10, \"policyarea\" : 14, \"partyfacts\" : -2, \"EP\": -1},\n",
        "           \"romania\" : {\"speaker\" : 7, \"date\" : 2, \"text\" : 9, \"policyarea\" : 14, \"partyfacts\" : -2, \"EP\": -1},\n",
        "           \"greece\" : {\"speaker\" : 7, \"date\" : 2, \"text\" : 9, \"policyarea\" : 13, \"partyfacts\" : -2, \"EP\": -1},\n",
        "           \"czechia\" : {\"speaker\" : 9, \"date\" : 4, \"text\" : 11, \"policyarea\" : 15, \"partyfacts\" : -2, \"EP\": -1},\n",
        "           \"malta\" : {\"speaker\" : 7, \"date\" : 2, \"text\" : 9, \"policyarea\" : 13, \"partyfacts\" : -2, \"EP\": -1},\n",
        "           \"slovenia\" : {\"speaker\" : 7, \"date\" : 2, \"text\" : 9, \"policyarea\" : 13, \"partyfacts\" : -2, \"EP\": -1},\n",
        "           \"latvia\" : {\"speaker\" : 6, \"date\" : 1, \"text\" : 8, \"policyarea\" : 13, \"partyfacts\" : -2, \"EP\": -1},\n",
        "           \"poland\" : {\"speaker\" : 6, \"date\" : 1, \"text\" : 8, \"policyarea\" : 12, \"partyfacts\" : -2, \"EP\": -1},\n",
        "           \"lithuania\": {\"speaker\" : 7, \"date\" : 2, \"text\" : 9, \"policyarea\" : 13, \"partyfacts\" : -2, \"EP\": -1},\n",
        "           \"bulgaria\": {\"speaker\" : 7, \"date\" : 2, \"text\" : 9, \"policyarea\" : 14, \"partyfacts\" : -2, \"EP\": -1},\n",
        "           \"norway\": {\"speaker\" : 6, \"date\" : 1, \"text\" : 8, \"policyarea\" : 21, \"partyfacts\" : -1}\n",
        "          }"
      ],
      "metadata": {
        "id": "LqXHWj53tH-5"
      },
      "execution_count": 1,
      "outputs": []
    },
    {
      "cell_type": "code",
      "source": [
        "def match_and_add_column(path1, path2, colmatch1, colmatch2, addcol2):\n",
        "    lines1 = get_csv_lines(path1)\n",
        "    lines2 = {l[colmatch2] : l[addcol2] for l in get_csv_lines(path2)[1:]}\n",
        "\n",
        "    nls = [lines1[0] + [\"em_party\"]]\n",
        "    for l in lines1[1:]:\n",
        "        if l[colmatch1] in lines2:\n",
        "            if lines2[l[colmatch1]].strip() == \"NA\":\n",
        "                i = 7\n",
        "            nls.append(l + [\"\" if lines2[l[colmatch1]].strip() == \"NA\" else lines2[l[colmatch1]]])\n",
        "        else:\n",
        "            l = l + [\"\"]\n",
        "\n",
        "    return nls\n"
      ],
      "metadata": {
        "id": "3dcuD6RgsB3C"
      },
      "execution_count": null,
      "outputs": []
    },
    {
      "cell_type": "code",
      "source": [
        "# check for correct format of date\n",
        "def try_parsing_date(text):\n",
        "    for fmt in ('%Y-%m-%d', '%d.%m.%Y', '%d/%m/%Y'):\n",
        "        try:\n",
        "            return datetime.strptime(text, fmt)\n",
        "        except ValueError:\n",
        "            pass\n",
        "    raise ValueError('no valid date format found ' + text)"
      ],
      "metadata": {
        "id": "AR-PDI9J7bIS"
      },
      "execution_count": null,
      "outputs": []
    },
    {
      "cell_type": "code",
      "source": [
        "# code for splitting\n",
        "for country in countries:\n",
        "  lines = get_csv_lines(os.path.join(file_path, country + \".csv\"))[1:]\n",
        "  aggs = {}\n",
        "  periods = {l[2] : (datetime.strptime(l[3], '%Y-%m-%d'), datetime.strptime(l[4], '%Y-%m-%d')) for l in get_csv_lines(os.path.join(base_path, \"periods.csv\"))[1:] if l[0].strip().lower().replace(\" \", \"_\") == country}\n",
        "\n",
        "  cnt = 0\n",
        "  print(len(lines))\n",
        "  found_cmp = False\n",
        "\n",
        "  for l in lines:\n",
        "    try:\n",
        "      if len(l) < 12:\n",
        "          continue\n",
        "\n",
        "      cnt += 1\n",
        "      if cnt % 100000 == 0:\n",
        "          print(cnt)\n",
        "      cmp = l[indices[country][\"partyfacts\"]].replace('.0','')\n",
        "      date = try_parsing_date(l[indices[country][\"date\"]].replace(\"\\\"\", \"\"))\n",
        "      per = [p for p in periods if periods[p][0] <= date and periods[p][1] >= date]\n",
        "      ep_np = l[indices[country][\"EP\"]]\n",
        "      if len(per) > 0:\n",
        "          period = per[0]\n",
        "          if period not in aggs:\n",
        "              aggs[period] = {}\n",
        "\n",
        "          polarea = l[indices[country][\"policyarea\"]]\n",
        "          if polarea not in aggs[period]:\n",
        "              aggs[period][polarea] = {}\n",
        "\n",
        "          speaker = l[indices[country][\"speaker\"]].replace(\"\\\"\", \"\")\n",
        "          ep = l[indices[country][\"EP\"]]\n",
        "          party = l[indices[country][\"partyfacts\"]].replace(\"\\\"\", \"\")\n",
        "          party = (party.replace(\"/\", \"-\"))\n",
        "\n",
        "          spp = speaker + \"__\" + party + \"__\" + ep\n",
        "\n",
        "          if spp not in aggs[period][polarea]:\n",
        "              aggs[period][polarea][spp] = []\n",
        "\n",
        "          text = l[indices[country][\"text\"]]\n",
        "          aggs[period][polarea][spp].append(text)\n",
        "    except Exception as e:\n",
        "      print('Exception: ' + str(e))\n",
        "      print('Count: ' + str(cnt))\n",
        "\n",
        "  for period in aggs:\n",
        "    print(period)\n",
        "    country_dir = os.path.join(base_path,country)\n",
        "    if not os.path.exists(country_dir):\n",
        "        os.mkdir(country_dir)\n",
        "    per_dir = os.path.join(base_path, country, period.replace(\" \", \"_\").lower())\n",
        "    if not os.path.exists(per_dir):\n",
        "        os.mkdir(per_dir)\n",
        "\n",
        "    for pol_area in aggs[period]:\n",
        "        pa_dir = os.path.join(per_dir, pol_area, \"input_files\")\n",
        "        if not os.path.exists(pa_dir):\n",
        "            os.makedirs(pa_dir)\n",
        "\n",
        "        for speaker in aggs[period][pol_area]:\n",
        "            text = \" \".join(aggs[period][pol_area][speaker])\n",
        "            out_path = os.path.join(pa_dir, speaker.replace(\" \", \"_\").replace(\".0\", \"\").lower() + \".txt\")\n",
        "            try:\n",
        "                write_list(out_path, [text])\n",
        "            except Exception as e:\n",
        "                print(\"Exception: \" + str(e))\n",
        "                print(\"Period: \" + str(period))\n",
        "                print(\"Speaker: \" + str(speaker))\n"
      ],
      "metadata": {
        "id": "03YxSn0pkcYo"
      },
      "execution_count": null,
      "outputs": []
    }
  ],
  "metadata": {
    "colab": {
      "provenance": [],
      "machine_shape": "hm"
    },
    "kernelspec": {
      "display_name": "Python 3",
      "name": "python3"
    },
    "language_info": {
      "name": "python"
    },
    "gpuClass": "standard"
  },
  "nbformat": 4,
  "nbformat_minor": 0
}